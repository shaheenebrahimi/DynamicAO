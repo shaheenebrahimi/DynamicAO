{
 "cells": [
  {
   "cell_type": "code",
   "execution_count": 2,
   "metadata": {},
   "outputs": [],
   "source": [
    "import keras\n",
    "import numpy as np"
   ]
  },
  {
   "cell_type": "code",
   "execution_count": 15,
   "metadata": {},
   "outputs": [],
   "source": [
    "bones = 234\n",
    "hidden = 256\n",
    "vertices = 9584\n",
    "\n",
    "model = keras.Sequential([\n",
    "    keras.layers.Input(shape=(bones,)),\n",
    "    keras.layers.Dense(hidden, activation='tanh'),\n",
    "    keras.layers.Dense(vertices, activation='tanh')\n",
    "])\n",
    "model.compile(optimizer=keras.optimizers.Adam(), loss=keras.losses.MeanSquaredError())"
   ]
  },
  {
   "cell_type": "code",
   "execution_count": 16,
   "metadata": {},
   "outputs": [],
   "source": [
    "wab = model.get_weights()\n",
    "\n",
    "# save weights and biases as buffer\n",
    "output_buf = str(len(model.layers)) + \"\\n\" # layer count\n",
    "\n",
    "for i in range(0, len(wab)-1, 2): # iterate through layers\n",
    "    weights = wab[i]\n",
    "    output_buf += str(weights.shape[0]) + \" \" + str(weights.shape[1]) + \"\\n\" # input size output size\n",
    "    for neuron in weights: # iterate through\n",
    "        for edges in neuron:\n",
    "            output_buf += str(edges) + \" \"\n",
    "    for biases in wab[i+1]:\n",
    "        output_buf += str(biases) + \" \"\n",
    "    output_buf = output_buf[:-1] + \"\\n\" # ignore extraneous space and end line\n",
    "    "
   ]
  },
  {
   "cell_type": "code",
   "execution_count": 17,
   "metadata": {},
   "outputs": [],
   "source": [
    "with open(\"../resources/evaluators/model.txt\", \"w\") as text_file:\n",
    "    text_file.write(output_buf) # add more digits"
   ]
  },
  {
   "cell_type": "code",
   "execution_count": null,
   "metadata": {},
   "outputs": [],
   "source": []
  }
 ],
 "metadata": {
  "kernelspec": {
   "display_name": "ml",
   "language": "python",
   "name": "python3"
  },
  "language_info": {
   "codemirror_mode": {
    "name": "ipython",
    "version": 3
   },
   "file_extension": ".py",
   "mimetype": "text/x-python",
   "name": "python",
   "nbconvert_exporter": "python",
   "pygments_lexer": "ipython3",
   "version": "3.10.13"
  }
 },
 "nbformat": 4,
 "nbformat_minor": 2
}
