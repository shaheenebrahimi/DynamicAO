{
 "cells": [
  {
   "cell_type": "markdown",
   "metadata": {},
   "source": [
    "Simple neural net to represent sphere on plane ambient occlusion texture\n",
    "<br/>Inputs: u, v\n",
    "<br/>Output: occlusion factor"
   ]
  },
  {
   "cell_type": "code",
   "execution_count": 54,
   "metadata": {},
   "outputs": [],
   "source": [
    "import keras\n",
    "import imageio.v2 as imageio\n",
    "import numpy as np\n",
    "import random\n",
    "from PIL import Image"
   ]
  },
  {
   "cell_type": "code",
   "execution_count": 62,
   "metadata": {},
   "outputs": [],
   "source": [
    "# get data \n",
    "img = imageio.imread('../resources/textures/sphereTex.png')\n",
    "img = img[:, :, 0] # convert to grayscale\n",
    "rows = len(img) # rows\n",
    "cols = len(img[0]) # cols\n",
    "\n",
    "# normalize\n",
    "img = img / 255.0\n",
    "\n",
    "# sample data\n",
    "dataset = []\n",
    "hashset = set()\n",
    "samples = 20000\n",
    "while len(dataset) < samples:\n",
    "    x = random.randint(5,cols-1)\n",
    "    y = random.randint(5,rows-1)\n",
    "    if ((x, y) not in hashset):\n",
    "        dataset.append([x/(cols-1), 1.0 - (y/(rows-1)), img[y][x]]) # u, v, ao\n",
    "        hashset.add((x, y))\n",
    "dataset = np.array(dataset)\n",
    "\n",
    "# split data\n",
    "np.random.shuffle(dataset)\n",
    "partition = int(0.8 * len(dataset))\n",
    "X_train = dataset[:partition, :-1]\n",
    "y_train = dataset[:partition, -1]\n",
    "X_test = dataset[partition:, :-1]\n",
    "y_test = dataset[partition:, -1]"
   ]
  },
  {
   "cell_type": "code",
   "execution_count": 63,
   "metadata": {},
   "outputs": [],
   "source": [
    "# build model\n",
    "model = keras.Sequential([\n",
    "    keras.layers.Input((2,)), # input\n",
    "    keras.layers.Dense(512, activation='relu'), # hidden\n",
    "    keras.layers.Dense(1), # output\n",
    "])\n",
    "model.compile(optimizer=\"rmsprop\", loss=keras.losses.MeanSquaredError(), metrics=\"mse\")"
   ]
  },
  {
   "cell_type": "code",
   "execution_count": 64,
   "metadata": {},
   "outputs": [
    {
     "name": "stdout",
     "output_type": "stream",
     "text": [
      "Epoch 1/20\n",
      "500/500 [==============================] - 0s 312us/step - loss: 0.0413 - mse: 0.0413\n",
      "Epoch 2/20\n",
      "500/500 [==============================] - 0s 325us/step - loss: 0.0215 - mse: 0.0215\n",
      "Epoch 3/20\n",
      "500/500 [==============================] - 0s 278us/step - loss: 0.0202 - mse: 0.0202\n",
      "Epoch 4/20\n",
      "500/500 [==============================] - 0s 279us/step - loss: 0.0192 - mse: 0.0192\n",
      "Epoch 5/20\n",
      "500/500 [==============================] - 0s 280us/step - loss: 0.0182 - mse: 0.0182\n",
      "Epoch 6/20\n",
      "500/500 [==============================] - 0s 281us/step - loss: 0.0173 - mse: 0.0173\n",
      "Epoch 7/20\n",
      "500/500 [==============================] - 0s 278us/step - loss: 0.0165 - mse: 0.0165\n",
      "Epoch 8/20\n",
      "500/500 [==============================] - 0s 285us/step - loss: 0.0158 - mse: 0.0158\n",
      "Epoch 9/20\n",
      "500/500 [==============================] - 0s 375us/step - loss: 0.0151 - mse: 0.0151\n",
      "Epoch 10/20\n",
      "500/500 [==============================] - 0s 297us/step - loss: 0.0145 - mse: 0.0145\n",
      "Epoch 11/20\n",
      "500/500 [==============================] - 0s 293us/step - loss: 0.0141 - mse: 0.0141\n",
      "Epoch 12/20\n",
      "500/500 [==============================] - 0s 280us/step - loss: 0.0135 - mse: 0.0135\n",
      "Epoch 13/20\n",
      "500/500 [==============================] - 0s 310us/step - loss: 0.0133 - mse: 0.0133\n",
      "Epoch 14/20\n",
      "500/500 [==============================] - 0s 284us/step - loss: 0.0129 - mse: 0.0129\n",
      "Epoch 15/20\n",
      "500/500 [==============================] - 0s 281us/step - loss: 0.0127 - mse: 0.0127\n",
      "Epoch 16/20\n",
      "500/500 [==============================] - 0s 284us/step - loss: 0.0126 - mse: 0.0126\n",
      "Epoch 17/20\n",
      "500/500 [==============================] - 0s 279us/step - loss: 0.0121 - mse: 0.0121\n",
      "Epoch 18/20\n",
      "500/500 [==============================] - 0s 280us/step - loss: 0.0122 - mse: 0.0122\n",
      "Epoch 19/20\n",
      "500/500 [==============================] - 0s 279us/step - loss: 0.0119 - mse: 0.0119\n",
      "Epoch 20/20\n",
      "500/500 [==============================] - 0s 277us/step - loss: 0.0120 - mse: 0.0120\n"
     ]
    }
   ],
   "source": [
    "# train model\n",
    "history = model.fit(X_train, y_train, epochs=20, batch_size=32)"
   ]
  },
  {
   "cell_type": "code",
   "execution_count": 69,
   "metadata": {},
   "outputs": [],
   "source": [
    "# generate texture using model\n",
    "dim = 64\n",
    "buffer = []\n",
    "for r in range(dim,0,-1):\n",
    "    for c in range(dim):\n",
    "        x = np.array([[c/(dim-1), r/(dim-1)]])\n",
    "        y = 255*model.predict(x, verbose=0)[0][0]\n",
    "        if y > 255: y = 255\n",
    "        buffer.append(y)"
   ]
  },
  {
   "cell_type": "code",
   "execution_count": null,
   "metadata": {},
   "outputs": [],
   "source": [
    "# save image\n",
    "img = Image.new('L', (dim,dim))\n",
    "img.putdata(buffer)\n",
    "img.save('nnTexture.png')"
   ]
  }
 ],
 "metadata": {
  "kernelspec": {
   "display_name": "Python 3",
   "language": "python",
   "name": "python3"
  },
  "language_info": {
   "codemirror_mode": {
    "name": "ipython",
    "version": 3
   },
   "file_extension": ".py",
   "mimetype": "text/x-python",
   "name": "python",
   "nbconvert_exporter": "python",
   "pygments_lexer": "ipython3",
   "version": "3.11.5"
  },
  "orig_nbformat": 4
 },
 "nbformat": 4,
 "nbformat_minor": 2
}
