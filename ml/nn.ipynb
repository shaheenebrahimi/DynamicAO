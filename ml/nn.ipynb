{
 "cells": [
  {
   "cell_type": "markdown",
   "metadata": {},
   "source": [
    "## ML Model for Dynamic Characters"
   ]
  },
  {
   "cell_type": "markdown",
   "metadata": {},
   "source": [
    "### Imports"
   ]
  },
  {
   "cell_type": "code",
   "execution_count": 2,
   "metadata": {},
   "outputs": [],
   "source": [
    "import keras\n",
    "import numpy as np\n",
    "import random"
   ]
  },
  {
   "cell_type": "code",
   "execution_count": 3,
   "metadata": {},
   "outputs": [
    {
     "name": "stdout",
     "output_type": "stream",
     "text": [
      "[PhysicalDevice(name='/physical_device:GPU:0', device_type='GPU')]\n"
     ]
    }
   ],
   "source": [
    "import tensorflow as tf\n",
    "print(tf.config.list_physical_devices('GPU'))"
   ]
  },
  {
   "cell_type": "markdown",
   "metadata": {},
   "source": [
    "### Read Data"
   ]
  },
  {
   "cell_type": "code",
   "execution_count": 3,
   "metadata": {},
   "outputs": [],
   "source": [
    "# get data \n",
    "# img = imageio.imread('../resources/textures/sphereTex.png')\n",
    "# img = img[:, :, 0] # convert to grayscale\n",
    "# rows = len(img) # rows\n",
    "# cols = len(img[0]) # cols\n",
    "\n",
    "# read data\n",
    "# data = []\n",
    "# with open(\"out.txt\", \"r\") as text_file:\n",
    "#     line = text_file.read()\n",
    "#     data = line.split('\\n')[:-1]\n",
    "#     data = [ list(map(float, x.split(','))) for x in data ]\n",
    "# data = np.array(data)\n",
    "\n",
    "# # split data\n",
    "# np.random.shuffle(data)\n",
    "# partition = int(0.8 * len(data))\n",
    "# X_train = data[:partition, :-1]\n",
    "# y_train = data[:partition, -1] / 255.0\n",
    "# X_test = data[partition:, :-1] \n",
    "# y_test = data[partition:, -1] / 255.0"
   ]
  },
  {
   "cell_type": "code",
   "execution_count": 97,
   "metadata": {},
   "outputs": [],
   "source": [
    "# read data\n",
    "name = \"warrior\"\n",
    "train_path = \"../resources/occlusion/\" + name + \"_train_data.txt\"\n",
    "test_path = \"../resources/occlusion/\" + name + \"_test_data.txt\"\n",
    "\n",
    "data = []\n",
    "bones = 0\n",
    "vertices = 0\n",
    "with open(train_path, \"r\") as text_file:\n",
    "    raw = text_file.read()\n",
    "    data = raw.split('\\n')[:-1] # ignore empty list\n",
    "    data = [ list(map(float, x.split(' '))) for x in data ]\n",
    "    bones, vertices = data[0]\n",
    "train_data = np.array(data[1:])\n",
    "\n",
    "with open(test_path, \"r\") as text_file:\n",
    "    raw = text_file.read()\n",
    "    data = raw.split('\\n')[:-1]\n",
    "    data = [ list(map(float, x.split(' '))) for x in data ]\n",
    "    bones, vertices = data[0]\n",
    "test_data = np.array(data[1:])\n",
    "\n",
    "# split data\n",
    "x_len = int(3 * bones) # 3 for each euler angle\n",
    "\n",
    "np.random.shuffle(train_data)\n",
    "assert(len(train_data[0]) == x_len + vertices)\n",
    "X_train = train_data[:, :x_len]\n",
    "X_train = X_train / np.pi  #/ (2 * np.pi) # standardize\n",
    "y_train = train_data[:, x_len:]\n",
    "\n",
    "assert(len(test_data[0]) == x_len + vertices)\n",
    "np.random.shuffle(test_data)\n",
    "X_test = test_data[:, :x_len]\n",
    "X_test = X_test / np.pi #/ (2 * np.pi) # standardize\n",
    "y_test = test_data[:, x_len:]"
   ]
  },
  {
   "cell_type": "markdown",
   "metadata": {},
   "source": [
    "### Build Model"
   ]
  },
  {
   "cell_type": "markdown",
   "metadata": {},
   "source": [
    "<b>Inputs:</b> u, v, thetas\n",
    "<br/><b>Output</b>: occlusion factor"
   ]
  },
  {
   "cell_type": "code",
   "execution_count": 104,
   "metadata": {},
   "outputs": [],
   "source": [
    "# build model\n",
    "model = keras.Sequential([\n",
    "    keras.layers.Dense(2*vertices, input_shape=(x_len,), activation='relu'), # hidden\n",
    "    keras.layers.Dense(vertices, activation='relu'), # hidden\n",
    "    # keras.layers.Dense(512, activation='relu'), # hidden\n",
    "    keras.layers.Dense(vertices) # output\n",
    "])\n",
    "# model = keras.Sequential([\n",
    "#     keras.layers.Conv1D(512, 15, 3, input_shape=(x_len,1,)), # hidden\n",
    "#     keras.layers.Conv1D(256, 12, 3, ), # hidden\n",
    "#     keras.layers.Conv1D(128, 6, 3, ), # hidden\n",
    "#     keras.layers.Flatten(),\n",
    "#     keras.layers.Dense(1024, activation=\"relu\"), # output\n",
    "#     keras.layers.Dropout(0.5),\n",
    "#     keras.layers.Dense(vertices)\n",
    "# ])\n",
    "model.compile(optimizer=\"rmsprop\", loss=keras.losses.MeanSquaredError(), metrics=\"mse\")"
   ]
  },
  {
   "cell_type": "code",
   "execution_count": 105,
   "metadata": {},
   "outputs": [
    {
     "name": "stdout",
     "output_type": "stream",
     "text": [
      "Model: \"sequential_23\"\n",
      "_________________________________________________________________\n",
      " Layer (type)                Output Shape              Param #   \n",
      "=================================================================\n",
      " dense_80 (Dense)            (None, 128)               31232     \n",
      "                                                                 \n",
      " dense_81 (Dense)            (None, 128)               16512     \n",
      "                                                                 \n",
      " dense_82 (Dense)            (None, 128)               16512     \n",
      "                                                                 \n",
      " dense_83 (Dense)            (None, 128)               16512     \n",
      "                                                                 \n",
      " dense_84 (Dense)            (None, 128)               16512     \n",
      "                                                                 \n",
      " dense_85 (Dense)            (None, 128)               16512     \n",
      "                                                                 \n",
      " dense_86 (Dense)            (None, 7568)              976272    \n",
      "                                                                 \n",
      "=================================================================\n",
      "Total params: 1,090,064\n",
      "Trainable params: 1,090,064\n",
      "Non-trainable params: 0\n",
      "_________________________________________________________________\n"
     ]
    }
   ],
   "source": [
    "model.summary()"
   ]
  },
  {
   "cell_type": "markdown",
   "metadata": {},
   "source": [
    "### Set up Tensorboard"
   ]
  },
  {
   "cell_type": "markdown",
   "metadata": {},
   "source": [
    "### Train Model"
   ]
  },
  {
   "cell_type": "code",
   "execution_count": 106,
   "metadata": {},
   "outputs": [
    {
     "name": "stdout",
     "output_type": "stream",
     "text": [
      "Epoch 1/100\n",
      "39/39 [==============================] - 1s 20ms/step - loss: 0.0137 - mse: 0.0137\n",
      "Epoch 2/100\n",
      "39/39 [==============================] - 1s 14ms/step - loss: 0.0096 - mse: 0.0096\n",
      "Epoch 3/100\n",
      "39/39 [==============================] - 0s 12ms/step - loss: 0.0091 - mse: 0.0091\n",
      "Epoch 4/100\n",
      "39/39 [==============================] - 0s 10ms/step - loss: 0.0087 - mse: 0.0087\n",
      "Epoch 5/100\n",
      "39/39 [==============================] - 0s 10ms/step - loss: 0.0084 - mse: 0.0084\n",
      "Epoch 6/100\n",
      "39/39 [==============================] - 0s 10ms/step - loss: 0.0082 - mse: 0.0082\n",
      "Epoch 7/100\n",
      "39/39 [==============================] - 0s 11ms/step - loss: 0.0080 - mse: 0.0080\n",
      "Epoch 8/100\n",
      "39/39 [==============================] - 1s 13ms/step - loss: 0.0078 - mse: 0.0078\n",
      "Epoch 9/100\n",
      "39/39 [==============================] - 0s 10ms/step - loss: 0.0076 - mse: 0.0076\n",
      "Epoch 10/100\n",
      "39/39 [==============================] - 0s 10ms/step - loss: 0.0074 - mse: 0.0074\n",
      "Epoch 11/100\n",
      "39/39 [==============================] - 0s 10ms/step - loss: 0.0072 - mse: 0.0072\n",
      "Epoch 12/100\n",
      "39/39 [==============================] - 0s 10ms/step - loss: 0.0070 - mse: 0.0070\n",
      "Epoch 13/100\n",
      "39/39 [==============================] - 0s 11ms/step - loss: 0.0069 - mse: 0.0069\n",
      "Epoch 14/100\n",
      "39/39 [==============================] - 1s 13ms/step - loss: 0.0067 - mse: 0.0067\n",
      "Epoch 15/100\n",
      "39/39 [==============================] - 0s 10ms/step - loss: 0.0066 - mse: 0.0066\n",
      "Epoch 16/100\n",
      "39/39 [==============================] - 0s 10ms/step - loss: 0.0065 - mse: 0.0065\n",
      "Epoch 17/100\n",
      "39/39 [==============================] - 0s 10ms/step - loss: 0.0063 - mse: 0.0063\n",
      "Epoch 18/100\n",
      "39/39 [==============================] - 0s 10ms/step - loss: 0.0063 - mse: 0.0063\n",
      "Epoch 19/100\n",
      "39/39 [==============================] - 0s 12ms/step - loss: 0.0062 - mse: 0.0062\n",
      "Epoch 20/100\n",
      "39/39 [==============================] - 0s 12ms/step - loss: 0.0061 - mse: 0.0061\n",
      "Epoch 21/100\n",
      "39/39 [==============================] - 0s 10ms/step - loss: 0.0060 - mse: 0.0060\n",
      "Epoch 22/100\n",
      "39/39 [==============================] - 0s 10ms/step - loss: 0.0059 - mse: 0.0059\n",
      "Epoch 23/100\n",
      "39/39 [==============================] - 0s 11ms/step - loss: 0.0058 - mse: 0.0058\n",
      "Epoch 24/100\n",
      "39/39 [==============================] - 0s 10ms/step - loss: 0.0057 - mse: 0.0057\n",
      "Epoch 25/100\n",
      "39/39 [==============================] - 1s 13ms/step - loss: 0.0057 - mse: 0.0057\n",
      "Epoch 26/100\n",
      "39/39 [==============================] - 0s 10ms/step - loss: 0.0056 - mse: 0.0056\n",
      "Epoch 27/100\n",
      "39/39 [==============================] - 0s 11ms/step - loss: 0.0055 - mse: 0.0055\n",
      "Epoch 28/100\n",
      "39/39 [==============================] - 0s 10ms/step - loss: 0.0054 - mse: 0.0054\n",
      "Epoch 29/100\n",
      "39/39 [==============================] - 0s 10ms/step - loss: 0.0054 - mse: 0.0054\n",
      "Epoch 30/100\n",
      "39/39 [==============================] - 0s 12ms/step - loss: 0.0053 - mse: 0.0053\n",
      "Epoch 31/100\n",
      "39/39 [==============================] - 0s 11ms/step - loss: 0.0053 - mse: 0.0053\n",
      "Epoch 32/100\n",
      "39/39 [==============================] - 0s 10ms/step - loss: 0.0052 - mse: 0.0052\n",
      "Epoch 33/100\n",
      "39/39 [==============================] - 0s 11ms/step - loss: 0.0052 - mse: 0.0052\n",
      "Epoch 34/100\n",
      "39/39 [==============================] - 0s 10ms/step - loss: 0.0051 - mse: 0.0051\n",
      "Epoch 35/100\n",
      "39/39 [==============================] - 0s 12ms/step - loss: 0.0050 - mse: 0.0050\n",
      "Epoch 36/100\n",
      "39/39 [==============================] - 1s 13ms/step - loss: 0.0050 - mse: 0.0050\n",
      "Epoch 37/100\n",
      "39/39 [==============================] - 0s 10ms/step - loss: 0.0050 - mse: 0.0050\n",
      "Epoch 38/100\n",
      "39/39 [==============================] - 0s 11ms/step - loss: 0.0049 - mse: 0.0049\n",
      "Epoch 39/100\n",
      "39/39 [==============================] - 0s 11ms/step - loss: 0.0049 - mse: 0.0049\n",
      "Epoch 40/100\n",
      "39/39 [==============================] - 0s 10ms/step - loss: 0.0048 - mse: 0.0048\n",
      "Epoch 41/100\n",
      "39/39 [==============================] - 0s 12ms/step - loss: 0.0048 - mse: 0.0048\n",
      "Epoch 42/100\n",
      "39/39 [==============================] - 0s 10ms/step - loss: 0.0048 - mse: 0.0048\n",
      "Epoch 43/100\n",
      "39/39 [==============================] - 0s 11ms/step - loss: 0.0047 - mse: 0.0047\n",
      "Epoch 44/100\n",
      "39/39 [==============================] - 0s 10ms/step - loss: 0.0047 - mse: 0.0047\n",
      "Epoch 45/100\n",
      "39/39 [==============================] - 0s 10ms/step - loss: 0.0047 - mse: 0.0047\n",
      "Epoch 46/100\n",
      "39/39 [==============================] - 0s 12ms/step - loss: 0.0046 - mse: 0.0046\n",
      "Epoch 47/100\n",
      "39/39 [==============================] - 0s 12ms/step - loss: 0.0046 - mse: 0.0046\n",
      "Epoch 48/100\n",
      "39/39 [==============================] - 0s 10ms/step - loss: 0.0046 - mse: 0.0046\n",
      "Epoch 49/100\n",
      "39/39 [==============================] - 0s 10ms/step - loss: 0.0045 - mse: 0.0045\n",
      "Epoch 50/100\n",
      "39/39 [==============================] - 0s 10ms/step - loss: 0.0045 - mse: 0.0045\n",
      "Epoch 51/100\n",
      "39/39 [==============================] - 0s 10ms/step - loss: 0.0045 - mse: 0.0045\n",
      "Epoch 52/100\n",
      "39/39 [==============================] - 1s 13ms/step - loss: 0.0045 - mse: 0.0045\n",
      "Epoch 53/100\n",
      "39/39 [==============================] - 0s 11ms/step - loss: 0.0044 - mse: 0.0044\n",
      "Epoch 54/100\n",
      "39/39 [==============================] - 0s 10ms/step - loss: 0.0044 - mse: 0.0044\n",
      "Epoch 55/100\n",
      "39/39 [==============================] - 0s 10ms/step - loss: 0.0044 - mse: 0.0044\n",
      "Epoch 56/100\n",
      "39/39 [==============================] - 0s 10ms/step - loss: 0.0044 - mse: 0.0044\n",
      "Epoch 57/100\n",
      "39/39 [==============================] - 0s 12ms/step - loss: 0.0043 - mse: 0.0043\n",
      "Epoch 58/100\n",
      "39/39 [==============================] - 0s 10ms/step - loss: 0.0043 - mse: 0.0043\n",
      "Epoch 59/100\n",
      "39/39 [==============================] - 0s 10ms/step - loss: 0.0043 - mse: 0.0043\n",
      "Epoch 60/100\n",
      "39/39 [==============================] - 0s 10ms/step - loss: 0.0043 - mse: 0.0043\n",
      "Epoch 61/100\n",
      "39/39 [==============================] - 0s 10ms/step - loss: 0.0043 - mse: 0.0043\n",
      "Epoch 62/100\n",
      "39/39 [==============================] - 0s 12ms/step - loss: 0.0042 - mse: 0.0042\n",
      "Epoch 63/100\n",
      "39/39 [==============================] - 0s 12ms/step - loss: 0.0042 - mse: 0.0042\n",
      "Epoch 64/100\n",
      "39/39 [==============================] - 0s 10ms/step - loss: 0.0042 - mse: 0.0042\n",
      "Epoch 65/100\n",
      "39/39 [==============================] - 0s 10ms/step - loss: 0.0042 - mse: 0.0042\n",
      "Epoch 66/100\n",
      "39/39 [==============================] - 0s 10ms/step - loss: 0.0042 - mse: 0.0042\n",
      "Epoch 67/100\n",
      "39/39 [==============================] - 0s 10ms/step - loss: 0.0041 - mse: 0.0041\n",
      "Epoch 68/100\n",
      "39/39 [==============================] - 1s 14ms/step - loss: 0.0041 - mse: 0.0041\n",
      "Epoch 69/100\n",
      "39/39 [==============================] - 0s 11ms/step - loss: 0.0041 - mse: 0.0041\n",
      "Epoch 70/100\n",
      "39/39 [==============================] - 0s 10ms/step - loss: 0.0041 - mse: 0.0041\n",
      "Epoch 71/100\n",
      "39/39 [==============================] - 0s 11ms/step - loss: 0.0041 - mse: 0.0041\n",
      "Epoch 72/100\n",
      "39/39 [==============================] - 0s 10ms/step - loss: 0.0041 - mse: 0.0041\n",
      "Epoch 73/100\n",
      "39/39 [==============================] - 0s 11ms/step - loss: 0.0041 - mse: 0.0041\n",
      "Epoch 74/100\n",
      "39/39 [==============================] - 0s 11ms/step - loss: 0.0040 - mse: 0.0040\n",
      "Epoch 75/100\n",
      "39/39 [==============================] - 0s 9ms/step - loss: 0.0040 - mse: 0.0040\n",
      "Epoch 76/100\n",
      "39/39 [==============================] - 0s 10ms/step - loss: 0.0040 - mse: 0.0040\n",
      "Epoch 77/100\n",
      "39/39 [==============================] - 0s 10ms/step - loss: 0.0040 - mse: 0.0040\n",
      "Epoch 78/100\n",
      "39/39 [==============================] - 0s 10ms/step - loss: 0.0040 - mse: 0.0040\n",
      "Epoch 79/100\n",
      "39/39 [==============================] - 0s 11ms/step - loss: 0.0040 - mse: 0.0040\n",
      "Epoch 80/100\n",
      "39/39 [==============================] - 0s 11ms/step - loss: 0.0040 - mse: 0.0040\n",
      "Epoch 81/100\n",
      "39/39 [==============================] - 1s 13ms/step - loss: 0.0039 - mse: 0.0039\n",
      "Epoch 82/100\n",
      "39/39 [==============================] - 0s 11ms/step - loss: 0.0040 - mse: 0.0040\n",
      "Epoch 83/100\n",
      "39/39 [==============================] - 0s 10ms/step - loss: 0.0039 - mse: 0.0039\n",
      "Epoch 84/100\n",
      "39/39 [==============================] - 0s 10ms/step - loss: 0.0039 - mse: 0.0039\n",
      "Epoch 85/100\n",
      "39/39 [==============================] - 0s 10ms/step - loss: 0.0039 - mse: 0.0039\n",
      "Epoch 86/100\n",
      "39/39 [==============================] - 0s 12ms/step - loss: 0.0039 - mse: 0.0039\n",
      "Epoch 87/100\n",
      "39/39 [==============================] - 0s 11ms/step - loss: 0.0039 - mse: 0.0039\n",
      "Epoch 88/100\n",
      "39/39 [==============================] - 0s 12ms/step - loss: 0.0039 - mse: 0.0039\n",
      "Epoch 89/100\n",
      "39/39 [==============================] - 0s 10ms/step - loss: 0.0039 - mse: 0.0039\n",
      "Epoch 90/100\n",
      "39/39 [==============================] - 0s 10ms/step - loss: 0.0039 - mse: 0.0039\n",
      "Epoch 91/100\n",
      "39/39 [==============================] - 0s 11ms/step - loss: 0.0038 - mse: 0.0038\n",
      "Epoch 92/100\n",
      "39/39 [==============================] - 0s 11ms/step - loss: 0.0039 - mse: 0.0039\n",
      "Epoch 93/100\n",
      "39/39 [==============================] - 1s 14ms/step - loss: 0.0038 - mse: 0.0038\n",
      "Epoch 94/100\n",
      "39/39 [==============================] - 0s 10ms/step - loss: 0.0038 - mse: 0.0038\n",
      "Epoch 95/100\n",
      "39/39 [==============================] - 0s 10ms/step - loss: 0.0038 - mse: 0.0038\n",
      "Epoch 96/100\n",
      "39/39 [==============================] - 0s 9ms/step - loss: 0.0038 - mse: 0.0038\n",
      "Epoch 97/100\n",
      "39/39 [==============================] - 0s 10ms/step - loss: 0.0038 - mse: 0.0038\n",
      "Epoch 98/100\n",
      "39/39 [==============================] - 0s 10ms/step - loss: 0.0038 - mse: 0.0038\n",
      "Epoch 99/100\n",
      "39/39 [==============================] - 0s 13ms/step - loss: 0.0038 - mse: 0.0038\n",
      "Epoch 100/100\n",
      "39/39 [==============================] - 0s 10ms/step - loss: 0.0038 - mse: 0.0038\n"
     ]
    }
   ],
   "source": [
    "# train model\n",
    "history = model.fit(X_train, y_train, epochs=100, batch_size=32)"
   ]
  },
  {
   "cell_type": "markdown",
   "metadata": {},
   "source": [
    "### Test Accuracy"
   ]
  },
  {
   "cell_type": "code",
   "execution_count": 107,
   "metadata": {},
   "outputs": [
    {
     "name": "stdout",
     "output_type": "stream",
     "text": [
      "12/12 [==============================] - 0s 5ms/step - loss: 0.0112 - mse: 0.0112\n",
      "test loss, test acc: [0.01118133869022131, 0.01118133869022131]\n"
     ]
    }
   ],
   "source": [
    "results = model.evaluate(X_test, y_test, batch_size=16)\n",
    "print(\"test loss, test acc:\", results)"
   ]
  },
  {
   "cell_type": "markdown",
   "metadata": {},
   "source": [
    "**Conv:**\n",
    "train ~ 0.004, test ~ 0.010 (mse)<br/>\n",
    "**Dense:**\n",
    "train ~ 0.0023, test ~ 0.011 mse (mse)"
   ]
  },
  {
   "cell_type": "code",
   "execution_count": 7,
   "metadata": {},
   "outputs": [
    {
     "name": "stdout",
     "output_type": "stream",
     "text": [
      "8192/8192 [==============================] - 3s 375us/step\n"
     ]
    }
   ],
   "source": [
    "# # generate texture using model\n",
    "# dim = 512\n",
    "# inputs = []\n",
    "# for r in range(dim,0,-1):\n",
    "#     for c in range(dim):\n",
    "#         x = [c/(dim-1), r/(dim-1)]\n",
    "#         inputs.append(x)\n",
    "# outputs = model.predict(inputs)\n",
    "# outputs = [ 255 if y[0] > 1 else 255*y[0] for y in outputs ]"
   ]
  },
  {
   "cell_type": "code",
   "execution_count": 8,
   "metadata": {},
   "outputs": [],
   "source": [
    "# # save image\n",
    "# img = Image.new('L', (dim,dim))\n",
    "# img.putdata(outputs)\n",
    "# img.save('nnTexture.png')"
   ]
  },
  {
   "cell_type": "code",
   "execution_count": 40,
   "metadata": {},
   "outputs": [
    {
     "name": "stdout",
     "output_type": "stream",
     "text": [
      "1/1 [==============================] - 0s 161ms/step\n"
     ]
    }
   ],
   "source": [
    "model.predict([\n",
    "    [0.94197,0.61064,0],\n",
    "    [0.85878,0.47439,0],\n",
    "    [0.86127,0.47565,0],\n",
    "    [0.84563,0.45853,0],\n",
    "    [0.84873,0.46279,0],\n",
    "    [0.92041,0.6823,0],\n",
    "    [0.91853,0.68184,0]\n",
    "])"
   ]
  },
  {
   "cell_type": "code",
   "execution_count": 38,
   "metadata": {},
   "outputs": [],
   "source": [
    "wab = model.get_weights()"
   ]
  },
  {
   "cell_type": "code",
   "execution_count": 39,
   "metadata": {},
   "outputs": [
    {
     "data": {
      "text/plain": [
       "0.019228264243694542"
      ]
     },
     "execution_count": 39,
     "metadata": {},
     "output_type": "execute_result"
    }
   ],
   "source": [
    "# manual evaluation 2 hidden layers: input = [u, v, theta]\n",
    "def manual_eval(input):\n",
    "    w1 = wab[0]\n",
    "    b1 = wab[1]\n",
    "    w2 = wab[2]\n",
    "    b2 = wab[3]\n",
    "    w3 = wab[4]\n",
    "    b3 = wab[5]\n",
    "\n",
    "    z1 = keras.activations.tanh(np.matmul(np.array(input), w1) + b1)\n",
    "    z2 = keras.activations.tanh(np.matmul(z1, w2) + b2)\n",
    "    z3 = keras.activations.tanh(np.matmul(z2, w3) + b3)\n",
    "    return z3.numpy()[0]"
   ]
  },
  {
   "cell_type": "markdown",
   "metadata": {},
   "source": [
    "### Save to output file"
   ]
  },
  {
   "cell_type": "code",
   "execution_count": 35,
   "metadata": {},
   "outputs": [],
   "source": [
    "# save weights and biases as buffer\n",
    "output_buf = str(len(model.layers)) + \"\\n\" # layer count\n",
    "\n",
    "for i in range(0, len(wab)-1, 2): # iterate through layers\n",
    "    weights = wab[i]\n",
    "    output_buf += str(weights.shape[0]) + \" \" + str(weights.shape[1]) + \"\\n\" # input size output size\n",
    "    for neuron in weights: # iterate through\n",
    "        for edges in neuron:\n",
    "            output_buf += str(edges) + \" \"\n",
    "    for biases in wab[i+1]:\n",
    "        output_buf += str(biases) + \" \"\n",
    "    output_buf = output_buf[:-1] + \"\\n\" # ignore extraneous space and end line\n",
    "    "
   ]
  },
  {
   "cell_type": "code",
   "execution_count": 36,
   "metadata": {},
   "outputs": [],
   "source": [
    "with open(\"../resources/evaluators/model.txt\", \"w\") as text_file:\n",
    "    text_file.write(output_buf) # add more digits"
   ]
  },
  {
   "cell_type": "markdown",
   "metadata": {},
   "source": [
    "# Second Model"
   ]
  },
  {
   "cell_type": "markdown",
   "metadata": {},
   "source": [
    "### Create Model"
   ]
  },
  {
   "cell_type": "markdown",
   "metadata": {},
   "source": [
    "Inputs: Joint Angles\n",
    "Outputs: AO values for each vertex"
   ]
  },
  {
   "cell_type": "code",
   "execution_count": 1,
   "metadata": {},
   "outputs": [],
   "source": [
    "import keras\n",
    "import numpy as np"
   ]
  },
  {
   "cell_type": "code",
   "execution_count": 44,
   "metadata": {},
   "outputs": [],
   "source": [
    "# read data\n",
    "header = []\n",
    "data = []\n",
    "with open(\"../resources/occlusion/dataAbs.txt\", \"r\") as text_file:\n",
    "    line = text_file.read()\n",
    "    data = [ list(map(float, x.split(' '))) for x in line.split('\\n')[:-1] ]\n",
    "    header = data[:1][0]\n",
    "    data = data[1:]\n",
    "data = np.array(data)\n",
    "\n",
    "num_joints = int(header[0])\n",
    "vertex_count = int(header[1])\n",
    "\n",
    "# split data\n",
    "np.random.shuffle(data)\n",
    "partition = int(0.8 * len(data))\n",
    "X_train = data[:partition, :num_joints]\n",
    "y_train = data[:partition, num_joints:]\n",
    "X_test = data[partition:, :num_joints]\n",
    "y_test = data[partition:, num_joints:]"
   ]
  },
  {
   "cell_type": "code",
   "execution_count": 45,
   "metadata": {},
   "outputs": [
    {
     "name": "stdout",
     "output_type": "stream",
     "text": [
      "[1.0, 1059.0]\n"
     ]
    }
   ],
   "source": [
    "print(header)"
   ]
  },
  {
   "cell_type": "code",
   "execution_count": 79,
   "metadata": {},
   "outputs": [],
   "source": [
    "# build model\n",
    "model = keras.Sequential([\n",
    "    keras.layers.Dense(1059, input_shape=(num_joints,), activation='tanh'), # hidden\n",
    "    # keras.layers.Dense(?, activation='tanh'), # hidden\n",
    "    keras.layers.Dense(vertex_count) # output\n",
    "])\n",
    "model.compile(optimizer=\"rmsprop\", loss=keras.losses.MeanSquaredError(), metrics=\"mse\")"
   ]
  },
  {
   "cell_type": "code",
   "execution_count": 80,
   "metadata": {},
   "outputs": [
    {
     "name": "stdout",
     "output_type": "stream",
     "text": [
      "Epoch 1/35\n",
      "2/2 [==============================] - 0s 15ms/step - loss: 0.0286 - mse: 0.0286\n",
      "Epoch 2/35\n",
      "2/2 [==============================] - 0s 14ms/step - loss: 0.0146 - mse: 0.0146\n",
      "Epoch 3/35\n",
      "2/2 [==============================] - 0s 20ms/step - loss: 0.0084 - mse: 0.0084\n",
      "Epoch 4/35\n",
      "2/2 [==============================] - 0s 21ms/step - loss: 0.0065 - mse: 0.0065\n",
      "Epoch 5/35\n",
      "2/2 [==============================] - 0s 14ms/step - loss: 0.0057 - mse: 0.0057\n",
      "Epoch 6/35\n",
      "2/2 [==============================] - 0s 24ms/step - loss: 0.0057 - mse: 0.0057\n",
      "Epoch 7/35\n",
      "2/2 [==============================] - 0s 22ms/step - loss: 0.0057 - mse: 0.0057\n",
      "Epoch 8/35\n",
      "2/2 [==============================] - 0s 14ms/step - loss: 0.0056 - mse: 0.0056\n",
      "Epoch 9/35\n",
      "2/2 [==============================] - 0s 22ms/step - loss: 0.0050 - mse: 0.0050\n",
      "Epoch 10/35\n",
      "2/2 [==============================] - 0s 18ms/step - loss: 0.0050 - mse: 0.0050\n",
      "Epoch 11/35\n",
      "2/2 [==============================] - 0s 11ms/step - loss: 0.0036 - mse: 0.0036\n",
      "Epoch 12/35\n",
      "2/2 [==============================] - 0s 13ms/step - loss: 0.0031 - mse: 0.0031\n",
      "Epoch 13/35\n",
      "2/2 [==============================] - 0s 14ms/step - loss: 0.0028 - mse: 0.0028\n",
      "Epoch 14/35\n",
      "2/2 [==============================] - 0s 12ms/step - loss: 0.0026 - mse: 0.0026\n",
      "Epoch 15/35\n",
      "2/2 [==============================] - 0s 13ms/step - loss: 0.0025 - mse: 0.0025\n",
      "Epoch 16/35\n",
      "2/2 [==============================] - 0s 10ms/step - loss: 0.0029 - mse: 0.0029\n",
      "Epoch 17/35\n",
      "2/2 [==============================] - 0s 12ms/step - loss: 0.0019 - mse: 0.0019\n",
      "Epoch 18/35\n",
      "2/2 [==============================] - 0s 10ms/step - loss: 0.0019 - mse: 0.0019\n",
      "Epoch 19/35\n",
      "2/2 [==============================] - 0s 11ms/step - loss: 0.0014 - mse: 0.0014\n",
      "Epoch 20/35\n",
      "2/2 [==============================] - 0s 10ms/step - loss: 0.0015 - mse: 0.0015\n",
      "Epoch 21/35\n",
      "2/2 [==============================] - 0s 9ms/step - loss: 0.0014 - mse: 0.0014\n",
      "Epoch 22/35\n",
      "2/2 [==============================] - 0s 12ms/step - loss: 0.0014 - mse: 0.0014\n",
      "Epoch 23/35\n",
      "2/2 [==============================] - 0s 11ms/step - loss: 0.0012 - mse: 0.0012\n",
      "Epoch 24/35\n",
      "2/2 [==============================] - 0s 9ms/step - loss: 0.0011 - mse: 0.0011\n",
      "Epoch 25/35\n",
      "2/2 [==============================] - 0s 8ms/step - loss: 0.0013 - mse: 0.0013\n",
      "Epoch 26/35\n",
      "2/2 [==============================] - 0s 9ms/step - loss: 0.0014 - mse: 0.0014\n",
      "Epoch 27/35\n",
      "2/2 [==============================] - 0s 10ms/step - loss: 0.0011 - mse: 0.0011\n",
      "Epoch 28/35\n",
      "2/2 [==============================] - 0s 9ms/step - loss: 0.0010 - mse: 0.0010    \n",
      "Epoch 29/35\n",
      "2/2 [==============================] - 0s 9ms/step - loss: 0.0010 - mse: 0.0010    \n",
      "Epoch 30/35\n",
      "2/2 [==============================] - 0s 10ms/step - loss: 0.0010 - mse: 0.0010\n",
      "Epoch 31/35\n",
      "2/2 [==============================] - 0s 13ms/step - loss: 9.6543e-04 - mse: 9.6543e-04\n",
      "Epoch 32/35\n",
      "2/2 [==============================] - 0s 13ms/step - loss: 9.9196e-04 - mse: 9.9196e-04\n",
      "Epoch 33/35\n",
      "2/2 [==============================] - 0s 9ms/step - loss: 9.4215e-04 - mse: 9.4215e-04\n",
      "Epoch 34/35\n",
      "2/2 [==============================] - 0s 10ms/step - loss: 0.0013 - mse: 0.0013\n",
      "Epoch 35/35\n",
      "2/2 [==============================] - 0s 11ms/step - loss: 8.9771e-04 - mse: 8.9771e-04\n"
     ]
    }
   ],
   "source": [
    "# train model\n",
    "history = model.fit(X_train, y_train, epochs=35, batch_size=64)"
   ]
  },
  {
   "cell_type": "code",
   "execution_count": 81,
   "metadata": {},
   "outputs": [],
   "source": [
    "wab = model.get_weights()"
   ]
  },
  {
   "cell_type": "code",
   "execution_count": 82,
   "metadata": {},
   "outputs": [],
   "source": [
    "# save weights and biases as buffer\n",
    "output_buf = str(len(model.layers)) + \"\\n\" # layer count\n",
    "\n",
    "for i in range(0, len(wab)-1, 2): # iterate through layers\n",
    "    weights = wab[i]\n",
    "    output_buf += str(weights.shape[0]) + \" \" + str(weights.shape[1]) + \"\\n\" # input size output size\n",
    "    for neuron in weights: # iterate through\n",
    "        for edges in neuron:\n",
    "            output_buf += str(edges) + \" \"\n",
    "    for biases in wab[i+1]:\n",
    "        output_buf += str(biases) + \" \"\n",
    "    output_buf = output_buf[:-1] + \"\\n\" # ignore extraneous space and end line"
   ]
  },
  {
   "cell_type": "code",
   "execution_count": 83,
   "metadata": {},
   "outputs": [],
   "source": [
    "with open(\"../resources/evaluators/modelAbs.txt\", \"w\") as text_file:\n",
    "    text_file.write(output_buf) # add more digits"
   ]
  },
  {
   "cell_type": "code",
   "execution_count": 90,
   "metadata": {},
   "outputs": [
    {
     "name": "stdout",
     "output_type": "stream",
     "text": [
      "1/1 [==============================] - 0s 53ms/step\n"
     ]
    },
    {
     "data": {
      "text/plain": [
       "array([[ 0.00416847, -0.00844724,  0.00868796, ...,  0.00885363,\n",
       "        -0.00669841,  0.00817197]])"
      ]
     },
     "execution_count": 90,
     "metadata": {},
     "output_type": "execute_result"
    }
   ],
   "source": [
    "p = model.predict([\n",
    "    X_test[0]\n",
    "])\n"
   ]
  },
  {
   "cell_type": "code",
   "execution_count": null,
   "metadata": {},
   "outputs": [],
   "source": []
  }
 ],
 "metadata": {
  "kernelspec": {
   "display_name": "Python 3",
   "language": "python",
   "name": "python3"
  },
  "language_info": {
   "codemirror_mode": {
    "name": "ipython",
    "version": 3
   },
   "file_extension": ".py",
   "mimetype": "text/x-python",
   "name": "python",
   "nbconvert_exporter": "python",
   "pygments_lexer": "ipython3",
   "version": "3.10.13"
  },
  "orig_nbformat": 4
 },
 "nbformat": 4,
 "nbformat_minor": 2
}
