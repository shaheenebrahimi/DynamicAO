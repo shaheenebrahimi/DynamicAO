{
 "cells": [
  {
   "cell_type": "markdown",
   "metadata": {},
   "source": [
    "## ML Model for Dynamic Characters"
   ]
  },
  {
   "cell_type": "markdown",
   "metadata": {},
   "source": [
    "### Imports"
   ]
  },
  {
   "cell_type": "code",
   "execution_count": 4,
   "metadata": {},
   "outputs": [],
   "source": [
    "import keras\n",
    "import numpy as np\n",
    "import random"
   ]
  },
  {
   "cell_type": "code",
   "execution_count": 6,
   "metadata": {},
   "outputs": [
    {
     "name": "stdout",
     "output_type": "stream",
     "text": [
      "[PhysicalDevice(name='/physical_device:GPU:0', device_type='GPU')]\n"
     ]
    }
   ],
   "source": [
    "import tensorflow as tf\n",
    "print(tf.config.list_physical_devices('GPU'))"
   ]
  },
  {
   "cell_type": "markdown",
   "metadata": {},
   "source": [
    "### Read Data"
   ]
  },
  {
   "cell_type": "code",
   "execution_count": 3,
   "metadata": {},
   "outputs": [],
   "source": [
    "# get data \n",
    "# img = imageio.imread('../resources/textures/sphereTex.png')\n",
    "# img = img[:, :, 0] # convert to grayscale\n",
    "# rows = len(img) # rows\n",
    "# cols = len(img[0]) # cols\n",
    "\n",
    "# read data\n",
    "# data = []\n",
    "# with open(\"out.txt\", \"r\") as text_file:\n",
    "#     line = text_file.read()\n",
    "#     data = line.split('\\n')[:-1]\n",
    "#     data = [ list(map(float, x.split(','))) for x in data ]\n",
    "# data = np.array(data)\n",
    "\n",
    "# # split data\n",
    "# np.random.shuffle(data)\n",
    "# partition = int(0.8 * len(data))\n",
    "# X_train = data[:partition, :-1]\n",
    "# y_train = data[:partition, -1] / 255.0\n",
    "# X_test = data[partition:, :-1] \n",
    "# y_test = data[partition:, -1] / 255.0"
   ]
  },
  {
   "cell_type": "code",
   "execution_count": 22,
   "metadata": {},
   "outputs": [],
   "source": [
    "# read data\n",
    "data = []\n",
    "with open(\"../resources/occlusion/data.txt\", \"r\") as text_file:\n",
    "    line = text_file.read()\n",
    "    data = line.split('\\n')[:-1]\n",
    "    data = [ list(map(float, x.split(' '))) for x in data ]\n",
    "data = np.array(data)\n",
    "\n",
    "# split data\n",
    "np.random.shuffle(data)\n",
    "partition = int(0.8 * len(data))\n",
    "X_train = data[:partition, :-1]\n",
    "y_train = data[:partition, -1]\n",
    "X_test = data[partition:, :-1]\n",
    "y_test = data[partition:, -1]"
   ]
  },
  {
   "cell_type": "markdown",
   "metadata": {},
   "source": [
    "### Build Model"
   ]
  },
  {
   "cell_type": "markdown",
   "metadata": {},
   "source": [
    "<b>Inputs:</b> u, v, thetas\n",
    "<br/><b>Output</b>: occlusion factor"
   ]
  },
  {
   "cell_type": "code",
   "execution_count": 48,
   "metadata": {},
   "outputs": [],
   "source": [
    "# build model\n",
    "model = keras.Sequential([\n",
    "    keras.layers.Dense(1024, input_shape=(3,), activation='tanh'), # hidden\n",
    "    keras.layers.Dense(512, activation='tanh'), # hidden\n",
    "    keras.layers.Dense(256, activation='tanh'), # hidden\n",
    "    keras.layers.Dense(1) # output\n",
    "])\n",
    "model.compile(optimizer=\"rmsprop\", loss=keras.losses.MeanSquaredError(), metrics=\"mse\")"
   ]
  },
  {
   "cell_type": "code",
   "execution_count": 49,
   "metadata": {},
   "outputs": [
    {
     "name": "stdout",
     "output_type": "stream",
     "text": [
      "Model: \"sequential_7\"\n",
      "_________________________________________________________________\n",
      " Layer (type)                Output Shape              Param #   \n",
      "=================================================================\n",
      " dense_24 (Dense)            (None, 1024)              4096      \n",
      "                                                                 \n",
      " dense_25 (Dense)            (None, 512)               524800    \n",
      "                                                                 \n",
      " dense_26 (Dense)            (None, 256)               131328    \n",
      "                                                                 \n",
      " dense_27 (Dense)            (None, 1)                 257       \n",
      "                                                                 \n",
      "=================================================================\n",
      "Total params: 660,481\n",
      "Trainable params: 660,481\n",
      "Non-trainable params: 0\n",
      "_________________________________________________________________\n"
     ]
    }
   ],
   "source": [
    "model.summary()"
   ]
  },
  {
   "cell_type": "markdown",
   "metadata": {},
   "source": [
    "### Set up Tensorboard"
   ]
  },
  {
   "cell_type": "markdown",
   "metadata": {},
   "source": [
    "### Train Model"
   ]
  },
  {
   "cell_type": "code",
   "execution_count": 50,
   "metadata": {},
   "outputs": [
    {
     "name": "stdout",
     "output_type": "stream",
     "text": [
      "Epoch 1/40\n",
      "313/313 [==============================] - 4s 10ms/step - loss: 0.1113 - mse: 0.1113\n",
      "Epoch 2/40\n",
      "313/313 [==============================] - 3s 9ms/step - loss: 0.0115 - mse: 0.0115\n",
      "Epoch 3/40\n",
      "313/313 [==============================] - 3s 9ms/step - loss: 0.0110 - mse: 0.0110\n",
      "Epoch 4/40\n",
      "313/313 [==============================] - 3s 9ms/step - loss: 0.0109 - mse: 0.0109\n",
      "Epoch 5/40\n",
      "313/313 [==============================] - 3s 9ms/step - loss: 0.0108 - mse: 0.0108\n",
      "Epoch 6/40\n",
      "313/313 [==============================] - 3s 9ms/step - loss: 0.0108 - mse: 0.0108\n",
      "Epoch 7/40\n",
      "313/313 [==============================] - 3s 9ms/step - loss: 0.0108 - mse: 0.0108\n",
      "Epoch 8/40\n",
      "313/313 [==============================] - 3s 9ms/step - loss: 0.0108 - mse: 0.0108\n",
      "Epoch 9/40\n",
      "313/313 [==============================] - 3s 9ms/step - loss: 0.0107 - mse: 0.0107\n",
      "Epoch 10/40\n",
      "313/313 [==============================] - 3s 9ms/step - loss: 0.0104 - mse: 0.0104\n",
      "Epoch 11/40\n",
      "262/313 [========================>.....] - ETA: 0s - loss: 0.0101 - mse: 0.0101"
     ]
    },
    {
     "ename": "KeyboardInterrupt",
     "evalue": "",
     "output_type": "error",
     "traceback": [
      "\u001b[1;31m---------------------------------------------------------------------------\u001b[0m",
      "\u001b[1;31mKeyboardInterrupt\u001b[0m                         Traceback (most recent call last)",
      "Cell \u001b[1;32mIn[50], line 2\u001b[0m\n\u001b[0;32m      1\u001b[0m \u001b[38;5;66;03m# train model\u001b[39;00m\n\u001b[1;32m----> 2\u001b[0m history \u001b[38;5;241m=\u001b[39m \u001b[43mmodel\u001b[49m\u001b[38;5;241;43m.\u001b[39;49m\u001b[43mfit\u001b[49m\u001b[43m(\u001b[49m\u001b[43mX_train\u001b[49m\u001b[43m,\u001b[49m\u001b[43m \u001b[49m\u001b[43my_train\u001b[49m\u001b[43m,\u001b[49m\u001b[43m \u001b[49m\u001b[43mepochs\u001b[49m\u001b[38;5;241;43m=\u001b[39;49m\u001b[38;5;241;43m40\u001b[39;49m\u001b[43m,\u001b[49m\u001b[43m \u001b[49m\u001b[43mbatch_size\u001b[49m\u001b[38;5;241;43m=\u001b[39;49m\u001b[38;5;241;43m64\u001b[39;49m\u001b[43m)\u001b[49m\n",
      "File \u001b[1;32mc:\\Users\\shaheenebrahimi\\AppData\\Local\\anaconda3\\envs\\ml\\lib\\site-packages\\keras\\utils\\traceback_utils.py:65\u001b[0m, in \u001b[0;36mfilter_traceback.<locals>.error_handler\u001b[1;34m(*args, **kwargs)\u001b[0m\n\u001b[0;32m     63\u001b[0m filtered_tb \u001b[38;5;241m=\u001b[39m \u001b[38;5;28;01mNone\u001b[39;00m\n\u001b[0;32m     64\u001b[0m \u001b[38;5;28;01mtry\u001b[39;00m:\n\u001b[1;32m---> 65\u001b[0m     \u001b[38;5;28;01mreturn\u001b[39;00m fn(\u001b[38;5;241m*\u001b[39margs, \u001b[38;5;241m*\u001b[39m\u001b[38;5;241m*\u001b[39mkwargs)\n\u001b[0;32m     66\u001b[0m \u001b[38;5;28;01mexcept\u001b[39;00m \u001b[38;5;167;01mException\u001b[39;00m \u001b[38;5;28;01mas\u001b[39;00m e:\n\u001b[0;32m     67\u001b[0m     filtered_tb \u001b[38;5;241m=\u001b[39m _process_traceback_frames(e\u001b[38;5;241m.\u001b[39m__traceback__)\n",
      "File \u001b[1;32mc:\\Users\\shaheenebrahimi\\AppData\\Local\\anaconda3\\envs\\ml\\lib\\site-packages\\keras\\engine\\training.py:1564\u001b[0m, in \u001b[0;36mModel.fit\u001b[1;34m(self, x, y, batch_size, epochs, verbose, callbacks, validation_split, validation_data, shuffle, class_weight, sample_weight, initial_epoch, steps_per_epoch, validation_steps, validation_batch_size, validation_freq, max_queue_size, workers, use_multiprocessing)\u001b[0m\n\u001b[0;32m   1556\u001b[0m \u001b[38;5;28;01mwith\u001b[39;00m tf\u001b[38;5;241m.\u001b[39mprofiler\u001b[38;5;241m.\u001b[39mexperimental\u001b[38;5;241m.\u001b[39mTrace(\n\u001b[0;32m   1557\u001b[0m     \u001b[38;5;124m\"\u001b[39m\u001b[38;5;124mtrain\u001b[39m\u001b[38;5;124m\"\u001b[39m,\n\u001b[0;32m   1558\u001b[0m     epoch_num\u001b[38;5;241m=\u001b[39mepoch,\n\u001b[1;32m   (...)\u001b[0m\n\u001b[0;32m   1561\u001b[0m     _r\u001b[38;5;241m=\u001b[39m\u001b[38;5;241m1\u001b[39m,\n\u001b[0;32m   1562\u001b[0m ):\n\u001b[0;32m   1563\u001b[0m     callbacks\u001b[38;5;241m.\u001b[39mon_train_batch_begin(step)\n\u001b[1;32m-> 1564\u001b[0m     tmp_logs \u001b[38;5;241m=\u001b[39m \u001b[38;5;28;43mself\u001b[39;49m\u001b[38;5;241;43m.\u001b[39;49m\u001b[43mtrain_function\u001b[49m\u001b[43m(\u001b[49m\u001b[43miterator\u001b[49m\u001b[43m)\u001b[49m\n\u001b[0;32m   1565\u001b[0m     \u001b[38;5;28;01mif\u001b[39;00m data_handler\u001b[38;5;241m.\u001b[39mshould_sync:\n\u001b[0;32m   1566\u001b[0m         context\u001b[38;5;241m.\u001b[39masync_wait()\n",
      "File \u001b[1;32mc:\\Users\\shaheenebrahimi\\AppData\\Local\\anaconda3\\envs\\ml\\lib\\site-packages\\tensorflow\\python\\util\\traceback_utils.py:150\u001b[0m, in \u001b[0;36mfilter_traceback.<locals>.error_handler\u001b[1;34m(*args, **kwargs)\u001b[0m\n\u001b[0;32m    148\u001b[0m filtered_tb \u001b[38;5;241m=\u001b[39m \u001b[38;5;28;01mNone\u001b[39;00m\n\u001b[0;32m    149\u001b[0m \u001b[38;5;28;01mtry\u001b[39;00m:\n\u001b[1;32m--> 150\u001b[0m   \u001b[38;5;28;01mreturn\u001b[39;00m fn(\u001b[38;5;241m*\u001b[39margs, \u001b[38;5;241m*\u001b[39m\u001b[38;5;241m*\u001b[39mkwargs)\n\u001b[0;32m    151\u001b[0m \u001b[38;5;28;01mexcept\u001b[39;00m \u001b[38;5;167;01mException\u001b[39;00m \u001b[38;5;28;01mas\u001b[39;00m e:\n\u001b[0;32m    152\u001b[0m   filtered_tb \u001b[38;5;241m=\u001b[39m _process_traceback_frames(e\u001b[38;5;241m.\u001b[39m__traceback__)\n",
      "File \u001b[1;32mc:\\Users\\shaheenebrahimi\\AppData\\Local\\anaconda3\\envs\\ml\\lib\\site-packages\\tensorflow\\python\\eager\\def_function.py:915\u001b[0m, in \u001b[0;36mFunction.__call__\u001b[1;34m(self, *args, **kwds)\u001b[0m\n\u001b[0;32m    912\u001b[0m compiler \u001b[38;5;241m=\u001b[39m \u001b[38;5;124m\"\u001b[39m\u001b[38;5;124mxla\u001b[39m\u001b[38;5;124m\"\u001b[39m \u001b[38;5;28;01mif\u001b[39;00m \u001b[38;5;28mself\u001b[39m\u001b[38;5;241m.\u001b[39m_jit_compile \u001b[38;5;28;01melse\u001b[39;00m \u001b[38;5;124m\"\u001b[39m\u001b[38;5;124mnonXla\u001b[39m\u001b[38;5;124m\"\u001b[39m\n\u001b[0;32m    914\u001b[0m \u001b[38;5;28;01mwith\u001b[39;00m OptionalXlaContext(\u001b[38;5;28mself\u001b[39m\u001b[38;5;241m.\u001b[39m_jit_compile):\n\u001b[1;32m--> 915\u001b[0m   result \u001b[38;5;241m=\u001b[39m \u001b[38;5;28mself\u001b[39m\u001b[38;5;241m.\u001b[39m_call(\u001b[38;5;241m*\u001b[39margs, \u001b[38;5;241m*\u001b[39m\u001b[38;5;241m*\u001b[39mkwds)\n\u001b[0;32m    917\u001b[0m new_tracing_count \u001b[38;5;241m=\u001b[39m \u001b[38;5;28mself\u001b[39m\u001b[38;5;241m.\u001b[39mexperimental_get_tracing_count()\n\u001b[0;32m    918\u001b[0m without_tracing \u001b[38;5;241m=\u001b[39m (tracing_count \u001b[38;5;241m==\u001b[39m new_tracing_count)\n",
      "File \u001b[1;32mc:\\Users\\shaheenebrahimi\\AppData\\Local\\anaconda3\\envs\\ml\\lib\\site-packages\\tensorflow\\python\\eager\\def_function.py:947\u001b[0m, in \u001b[0;36mFunction._call\u001b[1;34m(self, *args, **kwds)\u001b[0m\n\u001b[0;32m    944\u001b[0m   \u001b[38;5;28mself\u001b[39m\u001b[38;5;241m.\u001b[39m_lock\u001b[38;5;241m.\u001b[39mrelease()\n\u001b[0;32m    945\u001b[0m   \u001b[38;5;66;03m# In this case we have created variables on the first call, so we run the\u001b[39;00m\n\u001b[0;32m    946\u001b[0m   \u001b[38;5;66;03m# defunned version which is guaranteed to never create variables.\u001b[39;00m\n\u001b[1;32m--> 947\u001b[0m   \u001b[38;5;28;01mreturn\u001b[39;00m \u001b[38;5;28mself\u001b[39m\u001b[38;5;241m.\u001b[39m_stateless_fn(\u001b[38;5;241m*\u001b[39margs, \u001b[38;5;241m*\u001b[39m\u001b[38;5;241m*\u001b[39mkwds)  \u001b[38;5;66;03m# pylint: disable=not-callable\u001b[39;00m\n\u001b[0;32m    948\u001b[0m \u001b[38;5;28;01melif\u001b[39;00m \u001b[38;5;28mself\u001b[39m\u001b[38;5;241m.\u001b[39m_stateful_fn \u001b[38;5;129;01mis\u001b[39;00m \u001b[38;5;129;01mnot\u001b[39;00m \u001b[38;5;28;01mNone\u001b[39;00m:\n\u001b[0;32m    949\u001b[0m   \u001b[38;5;66;03m# Release the lock early so that multiple threads can perform the call\u001b[39;00m\n\u001b[0;32m    950\u001b[0m   \u001b[38;5;66;03m# in parallel.\u001b[39;00m\n\u001b[0;32m    951\u001b[0m   \u001b[38;5;28mself\u001b[39m\u001b[38;5;241m.\u001b[39m_lock\u001b[38;5;241m.\u001b[39mrelease()\n",
      "File \u001b[1;32mc:\\Users\\shaheenebrahimi\\AppData\\Local\\anaconda3\\envs\\ml\\lib\\site-packages\\tensorflow\\python\\eager\\function.py:2496\u001b[0m, in \u001b[0;36mFunction.__call__\u001b[1;34m(self, *args, **kwargs)\u001b[0m\n\u001b[0;32m   2493\u001b[0m \u001b[38;5;28;01mwith\u001b[39;00m \u001b[38;5;28mself\u001b[39m\u001b[38;5;241m.\u001b[39m_lock:\n\u001b[0;32m   2494\u001b[0m   (graph_function,\n\u001b[0;32m   2495\u001b[0m    filtered_flat_args) \u001b[38;5;241m=\u001b[39m \u001b[38;5;28mself\u001b[39m\u001b[38;5;241m.\u001b[39m_maybe_define_function(args, kwargs)\n\u001b[1;32m-> 2496\u001b[0m \u001b[38;5;28;01mreturn\u001b[39;00m \u001b[43mgraph_function\u001b[49m\u001b[38;5;241;43m.\u001b[39;49m\u001b[43m_call_flat\u001b[49m\u001b[43m(\u001b[49m\n\u001b[0;32m   2497\u001b[0m \u001b[43m    \u001b[49m\u001b[43mfiltered_flat_args\u001b[49m\u001b[43m,\u001b[49m\u001b[43m \u001b[49m\u001b[43mcaptured_inputs\u001b[49m\u001b[38;5;241;43m=\u001b[39;49m\u001b[43mgraph_function\u001b[49m\u001b[38;5;241;43m.\u001b[39;49m\u001b[43mcaptured_inputs\u001b[49m\u001b[43m)\u001b[49m\n",
      "File \u001b[1;32mc:\\Users\\shaheenebrahimi\\AppData\\Local\\anaconda3\\envs\\ml\\lib\\site-packages\\tensorflow\\python\\eager\\function.py:1862\u001b[0m, in \u001b[0;36mConcreteFunction._call_flat\u001b[1;34m(self, args, captured_inputs, cancellation_manager)\u001b[0m\n\u001b[0;32m   1858\u001b[0m possible_gradient_type \u001b[38;5;241m=\u001b[39m gradients_util\u001b[38;5;241m.\u001b[39mPossibleTapeGradientTypes(args)\n\u001b[0;32m   1859\u001b[0m \u001b[38;5;28;01mif\u001b[39;00m (possible_gradient_type \u001b[38;5;241m==\u001b[39m gradients_util\u001b[38;5;241m.\u001b[39mPOSSIBLE_GRADIENT_TYPES_NONE\n\u001b[0;32m   1860\u001b[0m     \u001b[38;5;129;01mand\u001b[39;00m executing_eagerly):\n\u001b[0;32m   1861\u001b[0m   \u001b[38;5;66;03m# No tape is watching; skip to running the function.\u001b[39;00m\n\u001b[1;32m-> 1862\u001b[0m   \u001b[38;5;28;01mreturn\u001b[39;00m \u001b[38;5;28mself\u001b[39m\u001b[38;5;241m.\u001b[39m_build_call_outputs(\u001b[38;5;28;43mself\u001b[39;49m\u001b[38;5;241;43m.\u001b[39;49m\u001b[43m_inference_function\u001b[49m\u001b[38;5;241;43m.\u001b[39;49m\u001b[43mcall\u001b[49m\u001b[43m(\u001b[49m\n\u001b[0;32m   1863\u001b[0m \u001b[43m      \u001b[49m\u001b[43mctx\u001b[49m\u001b[43m,\u001b[49m\u001b[43m \u001b[49m\u001b[43margs\u001b[49m\u001b[43m,\u001b[49m\u001b[43m \u001b[49m\u001b[43mcancellation_manager\u001b[49m\u001b[38;5;241;43m=\u001b[39;49m\u001b[43mcancellation_manager\u001b[49m\u001b[43m)\u001b[49m)\n\u001b[0;32m   1864\u001b[0m forward_backward \u001b[38;5;241m=\u001b[39m \u001b[38;5;28mself\u001b[39m\u001b[38;5;241m.\u001b[39m_select_forward_and_backward_functions(\n\u001b[0;32m   1865\u001b[0m     args,\n\u001b[0;32m   1866\u001b[0m     possible_gradient_type,\n\u001b[0;32m   1867\u001b[0m     executing_eagerly)\n\u001b[0;32m   1868\u001b[0m forward_function, args_with_tangents \u001b[38;5;241m=\u001b[39m forward_backward\u001b[38;5;241m.\u001b[39mforward()\n",
      "File \u001b[1;32mc:\\Users\\shaheenebrahimi\\AppData\\Local\\anaconda3\\envs\\ml\\lib\\site-packages\\tensorflow\\python\\eager\\function.py:499\u001b[0m, in \u001b[0;36m_EagerDefinedFunction.call\u001b[1;34m(self, ctx, args, cancellation_manager)\u001b[0m\n\u001b[0;32m    497\u001b[0m \u001b[38;5;28;01mwith\u001b[39;00m _InterpolateFunctionError(\u001b[38;5;28mself\u001b[39m):\n\u001b[0;32m    498\u001b[0m   \u001b[38;5;28;01mif\u001b[39;00m cancellation_manager \u001b[38;5;129;01mis\u001b[39;00m \u001b[38;5;28;01mNone\u001b[39;00m:\n\u001b[1;32m--> 499\u001b[0m     outputs \u001b[38;5;241m=\u001b[39m \u001b[43mexecute\u001b[49m\u001b[38;5;241;43m.\u001b[39;49m\u001b[43mexecute\u001b[49m\u001b[43m(\u001b[49m\n\u001b[0;32m    500\u001b[0m \u001b[43m        \u001b[49m\u001b[38;5;28;43mstr\u001b[39;49m\u001b[43m(\u001b[49m\u001b[38;5;28;43mself\u001b[39;49m\u001b[38;5;241;43m.\u001b[39;49m\u001b[43msignature\u001b[49m\u001b[38;5;241;43m.\u001b[39;49m\u001b[43mname\u001b[49m\u001b[43m)\u001b[49m\u001b[43m,\u001b[49m\n\u001b[0;32m    501\u001b[0m \u001b[43m        \u001b[49m\u001b[43mnum_outputs\u001b[49m\u001b[38;5;241;43m=\u001b[39;49m\u001b[38;5;28;43mself\u001b[39;49m\u001b[38;5;241;43m.\u001b[39;49m\u001b[43m_num_outputs\u001b[49m\u001b[43m,\u001b[49m\n\u001b[0;32m    502\u001b[0m \u001b[43m        \u001b[49m\u001b[43minputs\u001b[49m\u001b[38;5;241;43m=\u001b[39;49m\u001b[43margs\u001b[49m\u001b[43m,\u001b[49m\n\u001b[0;32m    503\u001b[0m \u001b[43m        \u001b[49m\u001b[43mattrs\u001b[49m\u001b[38;5;241;43m=\u001b[39;49m\u001b[43mattrs\u001b[49m\u001b[43m,\u001b[49m\n\u001b[0;32m    504\u001b[0m \u001b[43m        \u001b[49m\u001b[43mctx\u001b[49m\u001b[38;5;241;43m=\u001b[39;49m\u001b[43mctx\u001b[49m\u001b[43m)\u001b[49m\n\u001b[0;32m    505\u001b[0m   \u001b[38;5;28;01melse\u001b[39;00m:\n\u001b[0;32m    506\u001b[0m     outputs \u001b[38;5;241m=\u001b[39m execute\u001b[38;5;241m.\u001b[39mexecute_with_cancellation(\n\u001b[0;32m    507\u001b[0m         \u001b[38;5;28mstr\u001b[39m(\u001b[38;5;28mself\u001b[39m\u001b[38;5;241m.\u001b[39msignature\u001b[38;5;241m.\u001b[39mname),\n\u001b[0;32m    508\u001b[0m         num_outputs\u001b[38;5;241m=\u001b[39m\u001b[38;5;28mself\u001b[39m\u001b[38;5;241m.\u001b[39m_num_outputs,\n\u001b[1;32m   (...)\u001b[0m\n\u001b[0;32m    511\u001b[0m         ctx\u001b[38;5;241m=\u001b[39mctx,\n\u001b[0;32m    512\u001b[0m         cancellation_manager\u001b[38;5;241m=\u001b[39mcancellation_manager)\n",
      "File \u001b[1;32mc:\\Users\\shaheenebrahimi\\AppData\\Local\\anaconda3\\envs\\ml\\lib\\site-packages\\tensorflow\\python\\eager\\execute.py:54\u001b[0m, in \u001b[0;36mquick_execute\u001b[1;34m(op_name, num_outputs, inputs, attrs, ctx, name)\u001b[0m\n\u001b[0;32m     52\u001b[0m \u001b[38;5;28;01mtry\u001b[39;00m:\n\u001b[0;32m     53\u001b[0m   ctx\u001b[38;5;241m.\u001b[39mensure_initialized()\n\u001b[1;32m---> 54\u001b[0m   tensors \u001b[38;5;241m=\u001b[39m \u001b[43mpywrap_tfe\u001b[49m\u001b[38;5;241;43m.\u001b[39;49m\u001b[43mTFE_Py_Execute\u001b[49m\u001b[43m(\u001b[49m\u001b[43mctx\u001b[49m\u001b[38;5;241;43m.\u001b[39;49m\u001b[43m_handle\u001b[49m\u001b[43m,\u001b[49m\u001b[43m \u001b[49m\u001b[43mdevice_name\u001b[49m\u001b[43m,\u001b[49m\u001b[43m \u001b[49m\u001b[43mop_name\u001b[49m\u001b[43m,\u001b[49m\n\u001b[0;32m     55\u001b[0m \u001b[43m                                      \u001b[49m\u001b[43minputs\u001b[49m\u001b[43m,\u001b[49m\u001b[43m \u001b[49m\u001b[43mattrs\u001b[49m\u001b[43m,\u001b[49m\u001b[43m \u001b[49m\u001b[43mnum_outputs\u001b[49m\u001b[43m)\u001b[49m\n\u001b[0;32m     56\u001b[0m \u001b[38;5;28;01mexcept\u001b[39;00m core\u001b[38;5;241m.\u001b[39m_NotOkStatusException \u001b[38;5;28;01mas\u001b[39;00m e:\n\u001b[0;32m     57\u001b[0m   \u001b[38;5;28;01mif\u001b[39;00m name \u001b[38;5;129;01mis\u001b[39;00m \u001b[38;5;129;01mnot\u001b[39;00m \u001b[38;5;28;01mNone\u001b[39;00m:\n",
      "\u001b[1;31mKeyboardInterrupt\u001b[0m: "
     ]
    }
   ],
   "source": [
    "# train model\n",
    "history = model.fit(X_train, y_train, epochs=40, batch_size=64)"
   ]
  },
  {
   "cell_type": "code",
   "execution_count": 7,
   "metadata": {},
   "outputs": [
    {
     "name": "stdout",
     "output_type": "stream",
     "text": [
      "8192/8192 [==============================] - 3s 375us/step\n"
     ]
    }
   ],
   "source": [
    "# # generate texture using model\n",
    "# dim = 512\n",
    "# inputs = []\n",
    "# for r in range(dim,0,-1):\n",
    "#     for c in range(dim):\n",
    "#         x = [c/(dim-1), r/(dim-1)]\n",
    "#         inputs.append(x)\n",
    "# outputs = model.predict(inputs)\n",
    "# outputs = [ 255 if y[0] > 1 else 255*y[0] for y in outputs ]"
   ]
  },
  {
   "cell_type": "code",
   "execution_count": 8,
   "metadata": {},
   "outputs": [],
   "source": [
    "# # save image\n",
    "# img = Image.new('L', (dim,dim))\n",
    "# img.putdata(outputs)\n",
    "# img.save('nnTexture.png')"
   ]
  },
  {
   "cell_type": "code",
   "execution_count": 40,
   "metadata": {},
   "outputs": [
    {
     "name": "stdout",
     "output_type": "stream",
     "text": [
      "1/1 [==============================] - 0s 161ms/step\n"
     ]
    }
   ],
   "source": [
    "model.predict([\n",
    "    [0.94197,0.61064,0],\n",
    "    [0.85878,0.47439,0],\n",
    "    [0.86127,0.47565,0],\n",
    "    [0.84563,0.45853,0],\n",
    "    [0.84873,0.46279,0],\n",
    "    [0.92041,0.6823,0],\n",
    "    [0.91853,0.68184,0]\n",
    "])"
   ]
  },
  {
   "cell_type": "code",
   "execution_count": 38,
   "metadata": {},
   "outputs": [],
   "source": [
    "wab = model.get_weights()"
   ]
  },
  {
   "cell_type": "code",
   "execution_count": 39,
   "metadata": {},
   "outputs": [
    {
     "data": {
      "text/plain": [
       "0.019228264243694542"
      ]
     },
     "execution_count": 39,
     "metadata": {},
     "output_type": "execute_result"
    }
   ],
   "source": [
    "# manual evaluation 2 hidden layers: input = [u, v, theta]\n",
    "def manual_eval(input):\n",
    "    w1 = wab[0]\n",
    "    b1 = wab[1]\n",
    "    w2 = wab[2]\n",
    "    b2 = wab[3]\n",
    "    w3 = wab[4]\n",
    "    b3 = wab[5]\n",
    "\n",
    "    z1 = keras.activations.tanh(np.matmul(np.array(input), w1) + b1)\n",
    "    z2 = keras.activations.tanh(np.matmul(z1, w2) + b2)\n",
    "    z3 = keras.activations.tanh(np.matmul(z2, w3) + b3)\n",
    "    return z3.numpy()[0]"
   ]
  },
  {
   "cell_type": "markdown",
   "metadata": {},
   "source": [
    "### Save to output file"
   ]
  },
  {
   "cell_type": "code",
   "execution_count": 35,
   "metadata": {},
   "outputs": [],
   "source": [
    "# save weights and biases as buffer\n",
    "output_buf = str(len(model.layers)) + \"\\n\" # layer count\n",
    "\n",
    "for i in range(0, len(wab)-1, 2): # iterate through layers\n",
    "    weights = wab[i]\n",
    "    output_buf += str(weights.shape[0]) + \" \" + str(weights.shape[1]) + \"\\n\" # input size output size\n",
    "    for neuron in weights: # iterate through\n",
    "        for edges in neuron:\n",
    "            output_buf += str(edges) + \" \"\n",
    "    for biases in wab[i+1]:\n",
    "        output_buf += str(biases) + \" \"\n",
    "    output_buf = output_buf[:-1] + \"\\n\" # ignore extraneous space and end line\n",
    "    "
   ]
  },
  {
   "cell_type": "code",
   "execution_count": 36,
   "metadata": {},
   "outputs": [],
   "source": [
    "with open(\"../resources/evaluators/model.txt\", \"w\") as text_file:\n",
    "    text_file.write(output_buf) # add more digits"
   ]
  },
  {
   "cell_type": "markdown",
   "metadata": {},
   "source": [
    "# Second Model"
   ]
  },
  {
   "cell_type": "markdown",
   "metadata": {},
   "source": [
    "### Create Model"
   ]
  },
  {
   "cell_type": "markdown",
   "metadata": {},
   "source": [
    "Inputs: Joint Angles\n",
    "Outputs: AO values for each vertex"
   ]
  },
  {
   "cell_type": "code",
   "execution_count": 1,
   "metadata": {},
   "outputs": [],
   "source": [
    "import keras\n",
    "import numpy as np"
   ]
  },
  {
   "cell_type": "code",
   "execution_count": 44,
   "metadata": {},
   "outputs": [],
   "source": [
    "# read data\n",
    "header = []\n",
    "data = []\n",
    "with open(\"../resources/occlusion/dataAbs.txt\", \"r\") as text_file:\n",
    "    line = text_file.read()\n",
    "    data = [ list(map(float, x.split(' '))) for x in line.split('\\n')[:-1] ]\n",
    "    header = data[:1][0]\n",
    "    data = data[1:]\n",
    "data = np.array(data)\n",
    "\n",
    "num_joints = int(header[0])\n",
    "vertex_count = int(header[1])\n",
    "\n",
    "# split data\n",
    "np.random.shuffle(data)\n",
    "partition = int(0.8 * len(data))\n",
    "X_train = data[:partition, :num_joints]\n",
    "y_train = data[:partition, num_joints:]\n",
    "X_test = data[partition:, :num_joints]\n",
    "y_test = data[partition:, num_joints:]"
   ]
  },
  {
   "cell_type": "code",
   "execution_count": 45,
   "metadata": {},
   "outputs": [
    {
     "name": "stdout",
     "output_type": "stream",
     "text": [
      "[1.0, 1059.0]\n"
     ]
    }
   ],
   "source": [
    "print(header)"
   ]
  },
  {
   "cell_type": "code",
   "execution_count": 79,
   "metadata": {},
   "outputs": [],
   "source": [
    "# build model\n",
    "model = keras.Sequential([\n",
    "    keras.layers.Dense(1059, input_shape=(num_joints,), activation='tanh'), # hidden\n",
    "    # keras.layers.Dense(?, activation='tanh'), # hidden\n",
    "    keras.layers.Dense(vertex_count) # output\n",
    "])\n",
    "model.compile(optimizer=\"rmsprop\", loss=keras.losses.MeanSquaredError(), metrics=\"mse\")"
   ]
  },
  {
   "cell_type": "code",
   "execution_count": 80,
   "metadata": {},
   "outputs": [
    {
     "name": "stdout",
     "output_type": "stream",
     "text": [
      "Epoch 1/35\n",
      "2/2 [==============================] - 0s 15ms/step - loss: 0.0286 - mse: 0.0286\n",
      "Epoch 2/35\n",
      "2/2 [==============================] - 0s 14ms/step - loss: 0.0146 - mse: 0.0146\n",
      "Epoch 3/35\n",
      "2/2 [==============================] - 0s 20ms/step - loss: 0.0084 - mse: 0.0084\n",
      "Epoch 4/35\n",
      "2/2 [==============================] - 0s 21ms/step - loss: 0.0065 - mse: 0.0065\n",
      "Epoch 5/35\n",
      "2/2 [==============================] - 0s 14ms/step - loss: 0.0057 - mse: 0.0057\n",
      "Epoch 6/35\n",
      "2/2 [==============================] - 0s 24ms/step - loss: 0.0057 - mse: 0.0057\n",
      "Epoch 7/35\n",
      "2/2 [==============================] - 0s 22ms/step - loss: 0.0057 - mse: 0.0057\n",
      "Epoch 8/35\n",
      "2/2 [==============================] - 0s 14ms/step - loss: 0.0056 - mse: 0.0056\n",
      "Epoch 9/35\n",
      "2/2 [==============================] - 0s 22ms/step - loss: 0.0050 - mse: 0.0050\n",
      "Epoch 10/35\n",
      "2/2 [==============================] - 0s 18ms/step - loss: 0.0050 - mse: 0.0050\n",
      "Epoch 11/35\n",
      "2/2 [==============================] - 0s 11ms/step - loss: 0.0036 - mse: 0.0036\n",
      "Epoch 12/35\n",
      "2/2 [==============================] - 0s 13ms/step - loss: 0.0031 - mse: 0.0031\n",
      "Epoch 13/35\n",
      "2/2 [==============================] - 0s 14ms/step - loss: 0.0028 - mse: 0.0028\n",
      "Epoch 14/35\n",
      "2/2 [==============================] - 0s 12ms/step - loss: 0.0026 - mse: 0.0026\n",
      "Epoch 15/35\n",
      "2/2 [==============================] - 0s 13ms/step - loss: 0.0025 - mse: 0.0025\n",
      "Epoch 16/35\n",
      "2/2 [==============================] - 0s 10ms/step - loss: 0.0029 - mse: 0.0029\n",
      "Epoch 17/35\n",
      "2/2 [==============================] - 0s 12ms/step - loss: 0.0019 - mse: 0.0019\n",
      "Epoch 18/35\n",
      "2/2 [==============================] - 0s 10ms/step - loss: 0.0019 - mse: 0.0019\n",
      "Epoch 19/35\n",
      "2/2 [==============================] - 0s 11ms/step - loss: 0.0014 - mse: 0.0014\n",
      "Epoch 20/35\n",
      "2/2 [==============================] - 0s 10ms/step - loss: 0.0015 - mse: 0.0015\n",
      "Epoch 21/35\n",
      "2/2 [==============================] - 0s 9ms/step - loss: 0.0014 - mse: 0.0014\n",
      "Epoch 22/35\n",
      "2/2 [==============================] - 0s 12ms/step - loss: 0.0014 - mse: 0.0014\n",
      "Epoch 23/35\n",
      "2/2 [==============================] - 0s 11ms/step - loss: 0.0012 - mse: 0.0012\n",
      "Epoch 24/35\n",
      "2/2 [==============================] - 0s 9ms/step - loss: 0.0011 - mse: 0.0011\n",
      "Epoch 25/35\n",
      "2/2 [==============================] - 0s 8ms/step - loss: 0.0013 - mse: 0.0013\n",
      "Epoch 26/35\n",
      "2/2 [==============================] - 0s 9ms/step - loss: 0.0014 - mse: 0.0014\n",
      "Epoch 27/35\n",
      "2/2 [==============================] - 0s 10ms/step - loss: 0.0011 - mse: 0.0011\n",
      "Epoch 28/35\n",
      "2/2 [==============================] - 0s 9ms/step - loss: 0.0010 - mse: 0.0010    \n",
      "Epoch 29/35\n",
      "2/2 [==============================] - 0s 9ms/step - loss: 0.0010 - mse: 0.0010    \n",
      "Epoch 30/35\n",
      "2/2 [==============================] - 0s 10ms/step - loss: 0.0010 - mse: 0.0010\n",
      "Epoch 31/35\n",
      "2/2 [==============================] - 0s 13ms/step - loss: 9.6543e-04 - mse: 9.6543e-04\n",
      "Epoch 32/35\n",
      "2/2 [==============================] - 0s 13ms/step - loss: 9.9196e-04 - mse: 9.9196e-04\n",
      "Epoch 33/35\n",
      "2/2 [==============================] - 0s 9ms/step - loss: 9.4215e-04 - mse: 9.4215e-04\n",
      "Epoch 34/35\n",
      "2/2 [==============================] - 0s 10ms/step - loss: 0.0013 - mse: 0.0013\n",
      "Epoch 35/35\n",
      "2/2 [==============================] - 0s 11ms/step - loss: 8.9771e-04 - mse: 8.9771e-04\n"
     ]
    }
   ],
   "source": [
    "# train model\n",
    "history = model.fit(X_train, y_train, epochs=35, batch_size=64)"
   ]
  },
  {
   "cell_type": "code",
   "execution_count": 81,
   "metadata": {},
   "outputs": [],
   "source": [
    "wab = model.get_weights()"
   ]
  },
  {
   "cell_type": "code",
   "execution_count": 82,
   "metadata": {},
   "outputs": [],
   "source": [
    "# save weights and biases as buffer\n",
    "output_buf = str(len(model.layers)) + \"\\n\" # layer count\n",
    "\n",
    "for i in range(0, len(wab)-1, 2): # iterate through layers\n",
    "    weights = wab[i]\n",
    "    output_buf += str(weights.shape[0]) + \" \" + str(weights.shape[1]) + \"\\n\" # input size output size\n",
    "    for neuron in weights: # iterate through\n",
    "        for edges in neuron:\n",
    "            output_buf += str(edges) + \" \"\n",
    "    for biases in wab[i+1]:\n",
    "        output_buf += str(biases) + \" \"\n",
    "    output_buf = output_buf[:-1] + \"\\n\" # ignore extraneous space and end line"
   ]
  },
  {
   "cell_type": "code",
   "execution_count": 83,
   "metadata": {},
   "outputs": [],
   "source": [
    "with open(\"../resources/evaluators/modelAbs.txt\", \"w\") as text_file:\n",
    "    text_file.write(output_buf) # add more digits"
   ]
  },
  {
   "cell_type": "code",
   "execution_count": 90,
   "metadata": {},
   "outputs": [
    {
     "name": "stdout",
     "output_type": "stream",
     "text": [
      "1/1 [==============================] - 0s 53ms/step\n"
     ]
    },
    {
     "data": {
      "text/plain": [
       "array([[ 0.00416847, -0.00844724,  0.00868796, ...,  0.00885363,\n",
       "        -0.00669841,  0.00817197]])"
      ]
     },
     "execution_count": 90,
     "metadata": {},
     "output_type": "execute_result"
    }
   ],
   "source": [
    "p = model.predict([\n",
    "    X_test[0]\n",
    "])\n"
   ]
  },
  {
   "cell_type": "code",
   "execution_count": null,
   "metadata": {},
   "outputs": [],
   "source": []
  }
 ],
 "metadata": {
  "kernelspec": {
   "display_name": "Python 3",
   "language": "python",
   "name": "python3"
  },
  "language_info": {
   "codemirror_mode": {
    "name": "ipython",
    "version": 3
   },
   "file_extension": ".py",
   "mimetype": "text/x-python",
   "name": "python",
   "nbconvert_exporter": "python",
   "pygments_lexer": "ipython3",
   "version": "3.10.13"
  },
  "orig_nbformat": 4
 },
 "nbformat": 4,
 "nbformat_minor": 2
}
